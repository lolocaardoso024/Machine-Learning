{
 "cells": [
  {
   "cell_type": "markdown",
   "id": "f6758cb4-1041-4a51-9426-d421f89e6739",
   "metadata": {},
   "source": [
    "## Machine Learning Assessment Task\n"
   ]
  },
  {
   "cell_type": "markdown",
   "id": "daeb3174-539f-46f7-b52d-288c3d475152",
   "metadata": {},
   "source": [
    "# 1.Uploading and Understanding the dataset:"
   ]
  },
  {
   "cell_type": "code",
   "execution_count": 1,
   "id": "2570c318-06ac-4638-ad0c-e7389e43a951",
   "metadata": {},
   "outputs": [],
   "source": [
    "# First we need to import some libraries\n",
    "\n",
    "import numpy as np\n",
    "import statistics as stats\n",
    "import pandas as pd\n",
    "import matplotlib.pyplot as plt\n",
    "import seaborn as sns"
   ]
  },
  {
   "cell_type": "markdown",
   "id": "7b58a532-e373-40cf-ae35-f01c29a21407",
   "metadata": {},
   "source": [
    "Downloading the dataset from \n",
    "https://www.kaggle.com/datasets/dansbecker/melbourne-housing-snapshot"
   ]
  },
  {
   "cell_type": "code",
   "execution_count": 2,
   "id": "05443eae-1c8d-4ec1-b762-49a8ede70ad4",
   "metadata": {},
   "outputs": [],
   "source": [
    "# Uploading the dataset\n",
    "data = pd.read_csv(\"Melbourne_data.csv\")"
   ]
  },
  {
   "cell_type": "code",
   "execution_count": 3,
   "id": "645b93c3-6f5a-4d61-8978-1c2af7a96cd6",
   "metadata": {},
   "outputs": [
    {
     "data": {
      "text/html": [
       "<div>\n",
       "<style scoped>\n",
       "    .dataframe tbody tr th:only-of-type {\n",
       "        vertical-align: middle;\n",
       "    }\n",
       "\n",
       "    .dataframe tbody tr th {\n",
       "        vertical-align: top;\n",
       "    }\n",
       "\n",
       "    .dataframe thead th {\n",
       "        text-align: right;\n",
       "    }\n",
       "</style>\n",
       "<table border=\"1\" class=\"dataframe\">\n",
       "  <thead>\n",
       "    <tr style=\"text-align: right;\">\n",
       "      <th></th>\n",
       "      <th>Suburb</th>\n",
       "      <th>Address</th>\n",
       "      <th>Rooms</th>\n",
       "      <th>Type</th>\n",
       "      <th>Price</th>\n",
       "      <th>Method</th>\n",
       "      <th>SellerG</th>\n",
       "      <th>Date</th>\n",
       "      <th>Distance</th>\n",
       "      <th>Postcode</th>\n",
       "      <th>...</th>\n",
       "      <th>Bathroom</th>\n",
       "      <th>Car</th>\n",
       "      <th>Landsize</th>\n",
       "      <th>BuildingArea</th>\n",
       "      <th>YearBuilt</th>\n",
       "      <th>CouncilArea</th>\n",
       "      <th>Lattitude</th>\n",
       "      <th>Longtitude</th>\n",
       "      <th>Regionname</th>\n",
       "      <th>Propertycount</th>\n",
       "    </tr>\n",
       "  </thead>\n",
       "  <tbody>\n",
       "    <tr>\n",
       "      <th>0</th>\n",
       "      <td>Abbotsford</td>\n",
       "      <td>85 Turner St</td>\n",
       "      <td>2</td>\n",
       "      <td>h</td>\n",
       "      <td>1480000.0</td>\n",
       "      <td>S</td>\n",
       "      <td>Biggin</td>\n",
       "      <td>3/12/2016</td>\n",
       "      <td>2.5</td>\n",
       "      <td>3067.0</td>\n",
       "      <td>...</td>\n",
       "      <td>1.0</td>\n",
       "      <td>1.0</td>\n",
       "      <td>202.0</td>\n",
       "      <td>NaN</td>\n",
       "      <td>NaN</td>\n",
       "      <td>Yarra</td>\n",
       "      <td>-37.7996</td>\n",
       "      <td>144.9984</td>\n",
       "      <td>Northern Metropolitan</td>\n",
       "      <td>4019.0</td>\n",
       "    </tr>\n",
       "    <tr>\n",
       "      <th>1</th>\n",
       "      <td>Abbotsford</td>\n",
       "      <td>25 Bloomburg St</td>\n",
       "      <td>2</td>\n",
       "      <td>h</td>\n",
       "      <td>1035000.0</td>\n",
       "      <td>S</td>\n",
       "      <td>Biggin</td>\n",
       "      <td>4/02/2016</td>\n",
       "      <td>2.5</td>\n",
       "      <td>3067.0</td>\n",
       "      <td>...</td>\n",
       "      <td>1.0</td>\n",
       "      <td>0.0</td>\n",
       "      <td>156.0</td>\n",
       "      <td>79.0</td>\n",
       "      <td>1900.0</td>\n",
       "      <td>Yarra</td>\n",
       "      <td>-37.8079</td>\n",
       "      <td>144.9934</td>\n",
       "      <td>Northern Metropolitan</td>\n",
       "      <td>4019.0</td>\n",
       "    </tr>\n",
       "    <tr>\n",
       "      <th>2</th>\n",
       "      <td>Abbotsford</td>\n",
       "      <td>5 Charles St</td>\n",
       "      <td>3</td>\n",
       "      <td>h</td>\n",
       "      <td>1465000.0</td>\n",
       "      <td>SP</td>\n",
       "      <td>Biggin</td>\n",
       "      <td>4/03/2017</td>\n",
       "      <td>2.5</td>\n",
       "      <td>3067.0</td>\n",
       "      <td>...</td>\n",
       "      <td>2.0</td>\n",
       "      <td>0.0</td>\n",
       "      <td>134.0</td>\n",
       "      <td>150.0</td>\n",
       "      <td>1900.0</td>\n",
       "      <td>Yarra</td>\n",
       "      <td>-37.8093</td>\n",
       "      <td>144.9944</td>\n",
       "      <td>Northern Metropolitan</td>\n",
       "      <td>4019.0</td>\n",
       "    </tr>\n",
       "    <tr>\n",
       "      <th>3</th>\n",
       "      <td>Abbotsford</td>\n",
       "      <td>40 Federation La</td>\n",
       "      <td>3</td>\n",
       "      <td>h</td>\n",
       "      <td>850000.0</td>\n",
       "      <td>PI</td>\n",
       "      <td>Biggin</td>\n",
       "      <td>4/03/2017</td>\n",
       "      <td>2.5</td>\n",
       "      <td>3067.0</td>\n",
       "      <td>...</td>\n",
       "      <td>2.0</td>\n",
       "      <td>1.0</td>\n",
       "      <td>94.0</td>\n",
       "      <td>NaN</td>\n",
       "      <td>NaN</td>\n",
       "      <td>Yarra</td>\n",
       "      <td>-37.7969</td>\n",
       "      <td>144.9969</td>\n",
       "      <td>Northern Metropolitan</td>\n",
       "      <td>4019.0</td>\n",
       "    </tr>\n",
       "    <tr>\n",
       "      <th>4</th>\n",
       "      <td>Abbotsford</td>\n",
       "      <td>55a Park St</td>\n",
       "      <td>4</td>\n",
       "      <td>h</td>\n",
       "      <td>1600000.0</td>\n",
       "      <td>VB</td>\n",
       "      <td>Nelson</td>\n",
       "      <td>4/06/2016</td>\n",
       "      <td>2.5</td>\n",
       "      <td>3067.0</td>\n",
       "      <td>...</td>\n",
       "      <td>1.0</td>\n",
       "      <td>2.0</td>\n",
       "      <td>120.0</td>\n",
       "      <td>142.0</td>\n",
       "      <td>2014.0</td>\n",
       "      <td>Yarra</td>\n",
       "      <td>-37.8072</td>\n",
       "      <td>144.9941</td>\n",
       "      <td>Northern Metropolitan</td>\n",
       "      <td>4019.0</td>\n",
       "    </tr>\n",
       "  </tbody>\n",
       "</table>\n",
       "<p>5 rows × 21 columns</p>\n",
       "</div>"
      ],
      "text/plain": [
       "       Suburb           Address  Rooms Type      Price Method SellerG  \\\n",
       "0  Abbotsford      85 Turner St      2    h  1480000.0      S  Biggin   \n",
       "1  Abbotsford   25 Bloomburg St      2    h  1035000.0      S  Biggin   \n",
       "2  Abbotsford      5 Charles St      3    h  1465000.0     SP  Biggin   \n",
       "3  Abbotsford  40 Federation La      3    h   850000.0     PI  Biggin   \n",
       "4  Abbotsford       55a Park St      4    h  1600000.0     VB  Nelson   \n",
       "\n",
       "        Date  Distance  Postcode  ...  Bathroom  Car  Landsize  BuildingArea  \\\n",
       "0  3/12/2016       2.5    3067.0  ...       1.0  1.0     202.0           NaN   \n",
       "1  4/02/2016       2.5    3067.0  ...       1.0  0.0     156.0          79.0   \n",
       "2  4/03/2017       2.5    3067.0  ...       2.0  0.0     134.0         150.0   \n",
       "3  4/03/2017       2.5    3067.0  ...       2.0  1.0      94.0           NaN   \n",
       "4  4/06/2016       2.5    3067.0  ...       1.0  2.0     120.0         142.0   \n",
       "\n",
       "   YearBuilt  CouncilArea Lattitude  Longtitude             Regionname  \\\n",
       "0        NaN        Yarra  -37.7996    144.9984  Northern Metropolitan   \n",
       "1     1900.0        Yarra  -37.8079    144.9934  Northern Metropolitan   \n",
       "2     1900.0        Yarra  -37.8093    144.9944  Northern Metropolitan   \n",
       "3        NaN        Yarra  -37.7969    144.9969  Northern Metropolitan   \n",
       "4     2014.0        Yarra  -37.8072    144.9941  Northern Metropolitan   \n",
       "\n",
       "  Propertycount  \n",
       "0        4019.0  \n",
       "1        4019.0  \n",
       "2        4019.0  \n",
       "3        4019.0  \n",
       "4        4019.0  \n",
       "\n",
       "[5 rows x 21 columns]"
      ]
     },
     "execution_count": 3,
     "metadata": {},
     "output_type": "execute_result"
    }
   ],
   "source": [
    "# We can see how is the dataset and ask what is the problem that we need to solve\n",
    "data.head()"
   ]
  },
  {
   "cell_type": "code",
   "execution_count": 4,
   "id": "f7460235-0bfb-4795-aaa7-b8bf4f0b0c07",
   "metadata": {},
   "outputs": [
    {
     "name": "stdout",
     "output_type": "stream",
     "text": [
      "<class 'pandas.core.frame.DataFrame'>\n",
      "RangeIndex: 13580 entries, 0 to 13579\n",
      "Data columns (total 21 columns):\n",
      " #   Column         Non-Null Count  Dtype  \n",
      "---  ------         --------------  -----  \n",
      " 0   Suburb         13580 non-null  object \n",
      " 1   Address        13580 non-null  object \n",
      " 2   Rooms          13580 non-null  int64  \n",
      " 3   Type           13580 non-null  object \n",
      " 4   Price          13580 non-null  float64\n",
      " 5   Method         13580 non-null  object \n",
      " 6   SellerG        13580 non-null  object \n",
      " 7   Date           13580 non-null  object \n",
      " 8   Distance       13580 non-null  float64\n",
      " 9   Postcode       13580 non-null  float64\n",
      " 10  Bedroom2       13580 non-null  float64\n",
      " 11  Bathroom       13580 non-null  float64\n",
      " 12  Car            13518 non-null  float64\n",
      " 13  Landsize       13580 non-null  float64\n",
      " 14  BuildingArea   7130 non-null   float64\n",
      " 15  YearBuilt      8205 non-null   float64\n",
      " 16  CouncilArea    12211 non-null  object \n",
      " 17  Lattitude      13580 non-null  float64\n",
      " 18  Longtitude     13580 non-null  float64\n",
      " 19  Regionname     13580 non-null  object \n",
      " 20  Propertycount  13580 non-null  float64\n",
      "dtypes: float64(12), int64(1), object(8)\n",
      "memory usage: 2.2+ MB\n"
     ]
    }
   ],
   "source": [
    "# The code below helps in identifying data anomalies and understanding the underlying patterns.\n",
    "data.info()"
   ]
  },
  {
   "cell_type": "markdown",
   "id": "58392794-e099-4a74-bea3-914465d36f73",
   "metadata": {},
   "source": [
    "# 2. Cleaning the dataset"
   ]
  },
  {
   "cell_type": "code",
   "execution_count": 5,
   "id": "4f7c70ee-98d0-4883-967f-ddf274b8b3da",
   "metadata": {},
   "outputs": [],
   "source": [
    "# Dropping columns that are not relevant\n",
    "\n",
    "data = data.drop([\"Suburb\", \"Address\", \"SellerG\", \"Date\"],axis=1)"
   ]
  },
  {
   "cell_type": "code",
   "execution_count": 6,
   "id": "b407cc1c-2476-4ab4-ab39-3a0daf90a7aa",
   "metadata": {},
   "outputs": [
    {
     "data": {
      "text/plain": [
       "(13580, 17)"
      ]
     },
     "execution_count": 6,
     "metadata": {},
     "output_type": "execute_result"
    }
   ],
   "source": [
    "data.shape"
   ]
  },
  {
   "cell_type": "code",
   "execution_count": 7,
   "id": "1bfadd22-d5b8-475b-9def-b50f153f367c",
   "metadata": {},
   "outputs": [
    {
     "data": {
      "text/plain": [
       "Rooms               0\n",
       "Type                0\n",
       "Price               0\n",
       "Method              0\n",
       "Distance            0\n",
       "Postcode            0\n",
       "Bedroom2            0\n",
       "Bathroom            0\n",
       "Car                62\n",
       "Landsize            0\n",
       "BuildingArea     6450\n",
       "YearBuilt        5375\n",
       "CouncilArea      1369\n",
       "Lattitude           0\n",
       "Longtitude          0\n",
       "Regionname          0\n",
       "Propertycount       0\n",
       "dtype: int64"
      ]
     },
     "execution_count": 7,
     "metadata": {},
     "output_type": "execute_result"
    }
   ],
   "source": [
    "# Checking missing values:\n",
    "data.isnull().sum()"
   ]
  },
  {
   "cell_type": "code",
   "execution_count": 8,
   "id": "5ff0aeec-e935-405a-97ed-c03df0135ca0",
   "metadata": {},
   "outputs": [],
   "source": [
    "# Dropping Columns with more than 20% missing values\n",
    "data = data.drop([\"BuildingArea\",\"YearBuilt\",\"CouncilArea\"],axis=1)"
   ]
  },
  {
   "cell_type": "code",
   "execution_count": 9,
   "id": "741e50df-cc10-4584-8749-220af04d1714",
   "metadata": {},
   "outputs": [
    {
     "data": {
      "text/html": [
       "<div>\n",
       "<style scoped>\n",
       "    .dataframe tbody tr th:only-of-type {\n",
       "        vertical-align: middle;\n",
       "    }\n",
       "\n",
       "    .dataframe tbody tr th {\n",
       "        vertical-align: top;\n",
       "    }\n",
       "\n",
       "    .dataframe thead th {\n",
       "        text-align: right;\n",
       "    }\n",
       "</style>\n",
       "<table border=\"1\" class=\"dataframe\">\n",
       "  <thead>\n",
       "    <tr style=\"text-align: right;\">\n",
       "      <th></th>\n",
       "      <th>Rooms</th>\n",
       "      <th>Type</th>\n",
       "      <th>Price</th>\n",
       "      <th>Method</th>\n",
       "      <th>Distance</th>\n",
       "      <th>Postcode</th>\n",
       "      <th>Bedroom2</th>\n",
       "      <th>Bathroom</th>\n",
       "      <th>Car</th>\n",
       "      <th>Landsize</th>\n",
       "      <th>Lattitude</th>\n",
       "      <th>Longtitude</th>\n",
       "      <th>Regionname</th>\n",
       "      <th>Propertycount</th>\n",
       "    </tr>\n",
       "  </thead>\n",
       "  <tbody>\n",
       "    <tr>\n",
       "      <th>0</th>\n",
       "      <td>2</td>\n",
       "      <td>h</td>\n",
       "      <td>1480000.0</td>\n",
       "      <td>S</td>\n",
       "      <td>2.5</td>\n",
       "      <td>3067.0</td>\n",
       "      <td>2.0</td>\n",
       "      <td>1.0</td>\n",
       "      <td>1.0</td>\n",
       "      <td>202.0</td>\n",
       "      <td>-37.7996</td>\n",
       "      <td>144.9984</td>\n",
       "      <td>Northern Metropolitan</td>\n",
       "      <td>4019.0</td>\n",
       "    </tr>\n",
       "    <tr>\n",
       "      <th>1</th>\n",
       "      <td>2</td>\n",
       "      <td>h</td>\n",
       "      <td>1035000.0</td>\n",
       "      <td>S</td>\n",
       "      <td>2.5</td>\n",
       "      <td>3067.0</td>\n",
       "      <td>2.0</td>\n",
       "      <td>1.0</td>\n",
       "      <td>0.0</td>\n",
       "      <td>156.0</td>\n",
       "      <td>-37.8079</td>\n",
       "      <td>144.9934</td>\n",
       "      <td>Northern Metropolitan</td>\n",
       "      <td>4019.0</td>\n",
       "    </tr>\n",
       "    <tr>\n",
       "      <th>2</th>\n",
       "      <td>3</td>\n",
       "      <td>h</td>\n",
       "      <td>1465000.0</td>\n",
       "      <td>SP</td>\n",
       "      <td>2.5</td>\n",
       "      <td>3067.0</td>\n",
       "      <td>3.0</td>\n",
       "      <td>2.0</td>\n",
       "      <td>0.0</td>\n",
       "      <td>134.0</td>\n",
       "      <td>-37.8093</td>\n",
       "      <td>144.9944</td>\n",
       "      <td>Northern Metropolitan</td>\n",
       "      <td>4019.0</td>\n",
       "    </tr>\n",
       "    <tr>\n",
       "      <th>3</th>\n",
       "      <td>3</td>\n",
       "      <td>h</td>\n",
       "      <td>850000.0</td>\n",
       "      <td>PI</td>\n",
       "      <td>2.5</td>\n",
       "      <td>3067.0</td>\n",
       "      <td>3.0</td>\n",
       "      <td>2.0</td>\n",
       "      <td>1.0</td>\n",
       "      <td>94.0</td>\n",
       "      <td>-37.7969</td>\n",
       "      <td>144.9969</td>\n",
       "      <td>Northern Metropolitan</td>\n",
       "      <td>4019.0</td>\n",
       "    </tr>\n",
       "    <tr>\n",
       "      <th>4</th>\n",
       "      <td>4</td>\n",
       "      <td>h</td>\n",
       "      <td>1600000.0</td>\n",
       "      <td>VB</td>\n",
       "      <td>2.5</td>\n",
       "      <td>3067.0</td>\n",
       "      <td>3.0</td>\n",
       "      <td>1.0</td>\n",
       "      <td>2.0</td>\n",
       "      <td>120.0</td>\n",
       "      <td>-37.8072</td>\n",
       "      <td>144.9941</td>\n",
       "      <td>Northern Metropolitan</td>\n",
       "      <td>4019.0</td>\n",
       "    </tr>\n",
       "  </tbody>\n",
       "</table>\n",
       "</div>"
      ],
      "text/plain": [
       "   Rooms Type      Price Method  Distance  Postcode  Bedroom2  Bathroom  Car  \\\n",
       "0      2    h  1480000.0      S       2.5    3067.0       2.0       1.0  1.0   \n",
       "1      2    h  1035000.0      S       2.5    3067.0       2.0       1.0  0.0   \n",
       "2      3    h  1465000.0     SP       2.5    3067.0       3.0       2.0  0.0   \n",
       "3      3    h   850000.0     PI       2.5    3067.0       3.0       2.0  1.0   \n",
       "4      4    h  1600000.0     VB       2.5    3067.0       3.0       1.0  2.0   \n",
       "\n",
       "   Landsize  Lattitude  Longtitude             Regionname  Propertycount  \n",
       "0     202.0   -37.7996    144.9984  Northern Metropolitan         4019.0  \n",
       "1     156.0   -37.8079    144.9934  Northern Metropolitan         4019.0  \n",
       "2     134.0   -37.8093    144.9944  Northern Metropolitan         4019.0  \n",
       "3      94.0   -37.7969    144.9969  Northern Metropolitan         4019.0  \n",
       "4     120.0   -37.8072    144.9941  Northern Metropolitan         4019.0  "
      ]
     },
     "execution_count": 9,
     "metadata": {},
     "output_type": "execute_result"
    }
   ],
   "source": [
    "data.head()"
   ]
  },
  {
   "cell_type": "code",
   "execution_count": 10,
   "id": "691c235f-985f-414a-b104-e6ac02c9a3bb",
   "metadata": {},
   "outputs": [
    {
     "data": {
      "text/plain": [
       "array(['h', 'u', 't'], dtype=object)"
      ]
     },
     "execution_count": 10,
     "metadata": {},
     "output_type": "execute_result"
    }
   ],
   "source": [
    "# Using the following formulas I can transform categorical variables into numerical ones:\n",
    "#.unique() and map\n",
    "data[\"Type\"].unique()"
   ]
  },
  {
   "cell_type": "code",
   "execution_count": 11,
   "id": "90ae92df-cf7d-4738-93d9-645b0d9cbcbc",
   "metadata": {},
   "outputs": [],
   "source": [
    "# Apply function\n",
    "map = {'h': 1, 'u': 2, 't': 3}\n",
    "\n",
    "data['Type'] = data['Type'].map(map)"
   ]
  },
  {
   "cell_type": "code",
   "execution_count": 12,
   "id": "b0c81fcf-77a1-4dc3-b741-6a833dda8538",
   "metadata": {},
   "outputs": [
    {
     "data": {
      "text/html": [
       "<div>\n",
       "<style scoped>\n",
       "    .dataframe tbody tr th:only-of-type {\n",
       "        vertical-align: middle;\n",
       "    }\n",
       "\n",
       "    .dataframe tbody tr th {\n",
       "        vertical-align: top;\n",
       "    }\n",
       "\n",
       "    .dataframe thead th {\n",
       "        text-align: right;\n",
       "    }\n",
       "</style>\n",
       "<table border=\"1\" class=\"dataframe\">\n",
       "  <thead>\n",
       "    <tr style=\"text-align: right;\">\n",
       "      <th></th>\n",
       "      <th>Rooms</th>\n",
       "      <th>Type</th>\n",
       "      <th>Price</th>\n",
       "      <th>Method</th>\n",
       "      <th>Distance</th>\n",
       "      <th>Postcode</th>\n",
       "      <th>Bedroom2</th>\n",
       "      <th>Bathroom</th>\n",
       "      <th>Car</th>\n",
       "      <th>Landsize</th>\n",
       "      <th>Lattitude</th>\n",
       "      <th>Longtitude</th>\n",
       "      <th>Regionname</th>\n",
       "      <th>Propertycount</th>\n",
       "    </tr>\n",
       "  </thead>\n",
       "  <tbody>\n",
       "    <tr>\n",
       "      <th>0</th>\n",
       "      <td>2</td>\n",
       "      <td>1</td>\n",
       "      <td>1480000.0</td>\n",
       "      <td>S</td>\n",
       "      <td>2.5</td>\n",
       "      <td>3067.0</td>\n",
       "      <td>2.0</td>\n",
       "      <td>1.0</td>\n",
       "      <td>1.0</td>\n",
       "      <td>202.0</td>\n",
       "      <td>-37.7996</td>\n",
       "      <td>144.9984</td>\n",
       "      <td>Northern Metropolitan</td>\n",
       "      <td>4019.0</td>\n",
       "    </tr>\n",
       "    <tr>\n",
       "      <th>1</th>\n",
       "      <td>2</td>\n",
       "      <td>1</td>\n",
       "      <td>1035000.0</td>\n",
       "      <td>S</td>\n",
       "      <td>2.5</td>\n",
       "      <td>3067.0</td>\n",
       "      <td>2.0</td>\n",
       "      <td>1.0</td>\n",
       "      <td>0.0</td>\n",
       "      <td>156.0</td>\n",
       "      <td>-37.8079</td>\n",
       "      <td>144.9934</td>\n",
       "      <td>Northern Metropolitan</td>\n",
       "      <td>4019.0</td>\n",
       "    </tr>\n",
       "    <tr>\n",
       "      <th>2</th>\n",
       "      <td>3</td>\n",
       "      <td>1</td>\n",
       "      <td>1465000.0</td>\n",
       "      <td>SP</td>\n",
       "      <td>2.5</td>\n",
       "      <td>3067.0</td>\n",
       "      <td>3.0</td>\n",
       "      <td>2.0</td>\n",
       "      <td>0.0</td>\n",
       "      <td>134.0</td>\n",
       "      <td>-37.8093</td>\n",
       "      <td>144.9944</td>\n",
       "      <td>Northern Metropolitan</td>\n",
       "      <td>4019.0</td>\n",
       "    </tr>\n",
       "    <tr>\n",
       "      <th>3</th>\n",
       "      <td>3</td>\n",
       "      <td>1</td>\n",
       "      <td>850000.0</td>\n",
       "      <td>PI</td>\n",
       "      <td>2.5</td>\n",
       "      <td>3067.0</td>\n",
       "      <td>3.0</td>\n",
       "      <td>2.0</td>\n",
       "      <td>1.0</td>\n",
       "      <td>94.0</td>\n",
       "      <td>-37.7969</td>\n",
       "      <td>144.9969</td>\n",
       "      <td>Northern Metropolitan</td>\n",
       "      <td>4019.0</td>\n",
       "    </tr>\n",
       "    <tr>\n",
       "      <th>4</th>\n",
       "      <td>4</td>\n",
       "      <td>1</td>\n",
       "      <td>1600000.0</td>\n",
       "      <td>VB</td>\n",
       "      <td>2.5</td>\n",
       "      <td>3067.0</td>\n",
       "      <td>3.0</td>\n",
       "      <td>1.0</td>\n",
       "      <td>2.0</td>\n",
       "      <td>120.0</td>\n",
       "      <td>-37.8072</td>\n",
       "      <td>144.9941</td>\n",
       "      <td>Northern Metropolitan</td>\n",
       "      <td>4019.0</td>\n",
       "    </tr>\n",
       "  </tbody>\n",
       "</table>\n",
       "</div>"
      ],
      "text/plain": [
       "   Rooms  Type      Price Method  Distance  Postcode  Bedroom2  Bathroom  Car  \\\n",
       "0      2     1  1480000.0      S       2.5    3067.0       2.0       1.0  1.0   \n",
       "1      2     1  1035000.0      S       2.5    3067.0       2.0       1.0  0.0   \n",
       "2      3     1  1465000.0     SP       2.5    3067.0       3.0       2.0  0.0   \n",
       "3      3     1   850000.0     PI       2.5    3067.0       3.0       2.0  1.0   \n",
       "4      4     1  1600000.0     VB       2.5    3067.0       3.0       1.0  2.0   \n",
       "\n",
       "   Landsize  Lattitude  Longtitude             Regionname  Propertycount  \n",
       "0     202.0   -37.7996    144.9984  Northern Metropolitan         4019.0  \n",
       "1     156.0   -37.8079    144.9934  Northern Metropolitan         4019.0  \n",
       "2     134.0   -37.8093    144.9944  Northern Metropolitan         4019.0  \n",
       "3      94.0   -37.7969    144.9969  Northern Metropolitan         4019.0  \n",
       "4     120.0   -37.8072    144.9941  Northern Metropolitan         4019.0  "
      ]
     },
     "execution_count": 12,
     "metadata": {},
     "output_type": "execute_result"
    }
   ],
   "source": [
    "data.head()"
   ]
  },
  {
   "cell_type": "code",
   "execution_count": 13,
   "id": "81b82c3a-e7b5-46da-aea1-16b4e9d494cb",
   "metadata": {},
   "outputs": [
    {
     "data": {
      "text/plain": [
       "array(['S', 'SP', 'PI', 'VB', 'SA'], dtype=object)"
      ]
     },
     "execution_count": 13,
     "metadata": {},
     "output_type": "execute_result"
    }
   ],
   "source": [
    "data[\"Method\"].unique()"
   ]
  },
  {
   "cell_type": "code",
   "execution_count": 14,
   "id": "7ec6653d-6560-47a2-a0d5-cc0ac66c1e71",
   "metadata": {},
   "outputs": [],
   "source": [
    "map = {'S': 1, 'SP': 2, 'PI': 3, 'VB': 4, 'SA': 5}\n",
    "\n",
    "data['Method'] = data['Method'].map(map)"
   ]
  },
  {
   "cell_type": "code",
   "execution_count": 15,
   "id": "3ffd2a0e-6ed0-4a2b-b5d4-73d7efd821e4",
   "metadata": {},
   "outputs": [
    {
     "data": {
      "text/plain": [
       "array(['Northern Metropolitan', 'Western Metropolitan',\n",
       "       'Southern Metropolitan', 'Eastern Metropolitan',\n",
       "       'South-Eastern Metropolitan', 'Eastern Victoria',\n",
       "       'Northern Victoria', 'Western Victoria'], dtype=object)"
      ]
     },
     "execution_count": 15,
     "metadata": {},
     "output_type": "execute_result"
    }
   ],
   "source": [
    "data[\"Regionname\"].unique()"
   ]
  },
  {
   "cell_type": "code",
   "execution_count": 16,
   "id": "8a666c44-eed7-4f0f-bb80-265289150554",
   "metadata": {},
   "outputs": [],
   "source": [
    "map = {'Northern Metropolitan': 1, 'Western Metropolitan': 2, 'Southern Metropolitan': 3, \n",
    "       'Eastern Metropolitan': 4, 'South-Eastern Metropolitan': 5, \n",
    "       'Eastern Victoria': 6, 'Northern Victoria': 7, 'Western Victoria': 8}\n",
    "\n",
    "data['Regionname'] = data['Regionname'].map(map)"
   ]
  },
  {
   "cell_type": "code",
   "execution_count": 17,
   "id": "26efa39d-dc72-4edc-b6c5-5eadf29f6e55",
   "metadata": {},
   "outputs": [
    {
     "data": {
      "text/html": [
       "<div>\n",
       "<style scoped>\n",
       "    .dataframe tbody tr th:only-of-type {\n",
       "        vertical-align: middle;\n",
       "    }\n",
       "\n",
       "    .dataframe tbody tr th {\n",
       "        vertical-align: top;\n",
       "    }\n",
       "\n",
       "    .dataframe thead th {\n",
       "        text-align: right;\n",
       "    }\n",
       "</style>\n",
       "<table border=\"1\" class=\"dataframe\">\n",
       "  <thead>\n",
       "    <tr style=\"text-align: right;\">\n",
       "      <th></th>\n",
       "      <th>Rooms</th>\n",
       "      <th>Type</th>\n",
       "      <th>Price</th>\n",
       "      <th>Method</th>\n",
       "      <th>Distance</th>\n",
       "      <th>Postcode</th>\n",
       "      <th>Bedroom2</th>\n",
       "      <th>Bathroom</th>\n",
       "      <th>Car</th>\n",
       "      <th>Landsize</th>\n",
       "      <th>Lattitude</th>\n",
       "      <th>Longtitude</th>\n",
       "      <th>Regionname</th>\n",
       "      <th>Propertycount</th>\n",
       "    </tr>\n",
       "  </thead>\n",
       "  <tbody>\n",
       "    <tr>\n",
       "      <th>0</th>\n",
       "      <td>2</td>\n",
       "      <td>1</td>\n",
       "      <td>1480000.0</td>\n",
       "      <td>1</td>\n",
       "      <td>2.5</td>\n",
       "      <td>3067.0</td>\n",
       "      <td>2.0</td>\n",
       "      <td>1.0</td>\n",
       "      <td>1.0</td>\n",
       "      <td>202.0</td>\n",
       "      <td>-37.7996</td>\n",
       "      <td>144.9984</td>\n",
       "      <td>1</td>\n",
       "      <td>4019.0</td>\n",
       "    </tr>\n",
       "    <tr>\n",
       "      <th>1</th>\n",
       "      <td>2</td>\n",
       "      <td>1</td>\n",
       "      <td>1035000.0</td>\n",
       "      <td>1</td>\n",
       "      <td>2.5</td>\n",
       "      <td>3067.0</td>\n",
       "      <td>2.0</td>\n",
       "      <td>1.0</td>\n",
       "      <td>0.0</td>\n",
       "      <td>156.0</td>\n",
       "      <td>-37.8079</td>\n",
       "      <td>144.9934</td>\n",
       "      <td>1</td>\n",
       "      <td>4019.0</td>\n",
       "    </tr>\n",
       "    <tr>\n",
       "      <th>2</th>\n",
       "      <td>3</td>\n",
       "      <td>1</td>\n",
       "      <td>1465000.0</td>\n",
       "      <td>2</td>\n",
       "      <td>2.5</td>\n",
       "      <td>3067.0</td>\n",
       "      <td>3.0</td>\n",
       "      <td>2.0</td>\n",
       "      <td>0.0</td>\n",
       "      <td>134.0</td>\n",
       "      <td>-37.8093</td>\n",
       "      <td>144.9944</td>\n",
       "      <td>1</td>\n",
       "      <td>4019.0</td>\n",
       "    </tr>\n",
       "    <tr>\n",
       "      <th>3</th>\n",
       "      <td>3</td>\n",
       "      <td>1</td>\n",
       "      <td>850000.0</td>\n",
       "      <td>3</td>\n",
       "      <td>2.5</td>\n",
       "      <td>3067.0</td>\n",
       "      <td>3.0</td>\n",
       "      <td>2.0</td>\n",
       "      <td>1.0</td>\n",
       "      <td>94.0</td>\n",
       "      <td>-37.7969</td>\n",
       "      <td>144.9969</td>\n",
       "      <td>1</td>\n",
       "      <td>4019.0</td>\n",
       "    </tr>\n",
       "    <tr>\n",
       "      <th>4</th>\n",
       "      <td>4</td>\n",
       "      <td>1</td>\n",
       "      <td>1600000.0</td>\n",
       "      <td>4</td>\n",
       "      <td>2.5</td>\n",
       "      <td>3067.0</td>\n",
       "      <td>3.0</td>\n",
       "      <td>1.0</td>\n",
       "      <td>2.0</td>\n",
       "      <td>120.0</td>\n",
       "      <td>-37.8072</td>\n",
       "      <td>144.9941</td>\n",
       "      <td>1</td>\n",
       "      <td>4019.0</td>\n",
       "    </tr>\n",
       "  </tbody>\n",
       "</table>\n",
       "</div>"
      ],
      "text/plain": [
       "   Rooms  Type      Price  Method  Distance  Postcode  Bedroom2  Bathroom  \\\n",
       "0      2     1  1480000.0       1       2.5    3067.0       2.0       1.0   \n",
       "1      2     1  1035000.0       1       2.5    3067.0       2.0       1.0   \n",
       "2      3     1  1465000.0       2       2.5    3067.0       3.0       2.0   \n",
       "3      3     1   850000.0       3       2.5    3067.0       3.0       2.0   \n",
       "4      4     1  1600000.0       4       2.5    3067.0       3.0       1.0   \n",
       "\n",
       "   Car  Landsize  Lattitude  Longtitude  Regionname  Propertycount  \n",
       "0  1.0     202.0   -37.7996    144.9984           1         4019.0  \n",
       "1  0.0     156.0   -37.8079    144.9934           1         4019.0  \n",
       "2  0.0     134.0   -37.8093    144.9944           1         4019.0  \n",
       "3  1.0      94.0   -37.7969    144.9969           1         4019.0  \n",
       "4  2.0     120.0   -37.8072    144.9941           1         4019.0  "
      ]
     },
     "execution_count": 17,
     "metadata": {},
     "output_type": "execute_result"
    }
   ],
   "source": [
    "data.head()"
   ]
  },
  {
   "cell_type": "code",
   "execution_count": 18,
   "id": "2f302da0-4fef-46dd-983b-7667bf16a0cb",
   "metadata": {},
   "outputs": [
    {
     "data": {
      "image/png": "[encoded data removed]",
      "text/plain": [
       "<Figure size 800x500 with 2 Axes>"
      ]
     },
     "metadata": {},
     "output_type": "display_data"
    }
   ],
   "source": [
    "# Showing the correlation between variables\n",
    "plt.figure(figsize=(8,5))\n",
    "sns.heatmap(data.corr(),annot=True,cmap=\"YlGnBu\")\n",
    "plt.show()"
   ]
  },
  {
   "cell_type": "code",
   "execution_count": 19,
   "id": "58f54594-9770-469d-a6a8-40d6dde43dd0",
   "metadata": {},
   "outputs": [
    {
     "name": "stderr",
     "output_type": "stream",
     "text": [
      "C:\\Users\\lorra\\anaconda3\\Lib\\site-packages\\seaborn\\_oldcore.py:1119: FutureWarning: use_inf_as_na option is deprecated and will be removed in a future version. Convert inf values to NaN before operating instead.\n",
      "  with pd.option_context('mode.use_inf_as_na', True):\n"
     ]
    },
    {
     "data": {
      "text/plain": [
       "<seaborn.axisgrid.FacetGrid at 0x17f922134d0>"
      ]
     },
     "execution_count": 19,
     "metadata": {},
     "output_type": "execute_result"
    },
    {
     "data": {
      "image/png": "[encoded data removed]",
      "text/plain": [
       "<Figure size 500x500 with 1 Axes>"
      ]
     },
     "metadata": {},
     "output_type": "display_data"
    }
   ],
   "source": [
    "sns.displot(data[\"Price\"])"
   ]
  },
  {
   "cell_type": "code",
   "execution_count": 20,
   "id": "39ca7eb4-fb75-431b-b803-bb3ee7d4853d",
   "metadata": {},
   "outputs": [],
   "source": [
    "#sns.displot(data)"
   ]
  },
  {
   "cell_type": "markdown",
   "id": "374b921f-b8ae-4793-af70-bd32b409207e",
   "metadata": {},
   "source": [
    "# 3.1.Summary Statistics: "
   ]
  },
  {
   "cell_type": "code",
   "execution_count": 21,
   "id": "dd1d1835-57c9-4839-9b65-95d442406036",
   "metadata": {},
   "outputs": [],
   "source": [
    "# Median\n",
    "def calc_median(variable):\n",
    "    if len(variable) == 0:\n",
    "        return None\n",
    "    variable = variable.sort_values(ignore_index = True)\n",
    "    n = len(variable)\n",
    "    if n % 2 == 0:\n",
    "        mid1 = variable[n // 2 - 1]\n",
    "        mid2 = variable[n // 2]\n",
    "        median = ((mid1 + mid2) / 2)\n",
    "        return median\n",
    "    else:\n",
    "        median = variable[n // 2]\n",
    "        return median"
   ]
  },
  {
   "cell_type": "code",
   "execution_count": 22,
   "id": "b1277dac-3e05-4da4-84b1-cb4d98aace6b",
   "metadata": {},
   "outputs": [
    {
     "data": {
      "text/plain": [
       "903000.0"
      ]
     },
     "execution_count": 22,
     "metadata": {},
     "output_type": "execute_result"
    }
   ],
   "source": [
    "calc_median(data['Price'])"
   ]
  },
  {
   "cell_type": "code",
   "execution_count": 23,
   "id": "6b34e63e-dd49-413d-9d80-6e567cca28fc",
   "metadata": {},
   "outputs": [],
   "source": [
    "# mode\n",
    "def calc_mode(variable):\n",
    "    if len(variable) == 0:\n",
    "        return None\n",
    "    num_freq = {}\n",
    "    for num in variable:\n",
    "        if num in num_freq:\n",
    "            num_freq[num] += 1\n",
    "        else:\n",
    "            num_freq[num] = 1\n",
    "    max_count = max(num_freq.values())\n",
    "    mode = [num for num, count in num_freq.items() if count == max_count]\n",
    "    if len(mode) == len(variable):\n",
    "        return \"No mode available\"\n",
    "    return mode"
   ]
  },
  {
   "cell_type": "code",
   "execution_count": 24,
   "id": "a79b8466-3530-4772-b4fa-701144b41c0a",
   "metadata": {},
   "outputs": [
    {
     "data": {
      "text/plain": [
       "[1100000.0]"
      ]
     },
     "execution_count": 24,
     "metadata": {},
     "output_type": "execute_result"
    }
   ],
   "source": [
    "calc_mode(data[\"Price\"])"
   ]
  },
  {
   "cell_type": "code",
   "execution_count": 25,
   "id": "0ac6d5e7-8cc2-414d-89d8-09a508cf02e9",
   "metadata": {},
   "outputs": [],
   "source": [
    "# Mean:\n",
    "def calc_mean(variable):\n",
    "    if len(variable) == 0:\n",
    "        return None\n",
    "    mean = sum(variable) / len(variable)\n",
    "    return mean"
   ]
  },
  {
   "cell_type": "code",
   "execution_count": 26,
   "id": "8d23e15a-1637-4434-b9f2-78ca3f82ecfa",
   "metadata": {},
   "outputs": [
    {
     "data": {
      "text/plain": [
       "1075684.079455081"
      ]
     },
     "execution_count": 26,
     "metadata": {},
     "output_type": "execute_result"
    }
   ],
   "source": [
    "calc_mean(data[\"Price\"])"
   ]
  },
  {
   "cell_type": "code",
   "execution_count": 27,
   "id": "e33c37aa-decd-4e79-9bae-7ae7dc2a5f23",
   "metadata": {},
   "outputs": [
    {
     "name": "stdout",
     "output_type": "stream",
     "text": [
      "Standard deviation using numpy: Rooms                 0.955713\n",
      "Type                  0.633341\n",
      "Price            639287.185176\n",
      "Method                1.034197\n",
      "Distance              5.868509\n",
      "Postcode             90.673625\n",
      "Bedroom2              0.965885\n",
      "Bathroom              0.691686\n",
      "Car                   0.962598\n",
      "Landsize           3990.522307\n",
      "Lattitude             0.079257\n",
      "Longtitude            0.103912\n",
      "Regionname            1.187393\n",
      "Propertycount      4378.420554\n",
      "dtype: float64\n"
     ]
    },
    {
     "name": "stderr",
     "output_type": "stream",
     "text": [
      "C:\\Users\\lorra\\anaconda3\\Lib\\site-packages\\numpy\\core\\fromnumeric.py:3643: FutureWarning: The behavior of DataFrame.std with axis=None is deprecated, in a future version this will reduce over both axes and return a scalar. To retain the old behavior, pass axis=0 (or do not pass axis)\n",
      "  return std(axis=axis, dtype=dtype, out=out, ddof=ddof, **kwargs)\n"
     ]
    }
   ],
   "source": [
    "# Standard Deviation:\n",
    "std_deviation_numpy = np.std(data)\n",
    "print(\"Standard deviation using numpy:\", std_deviation_numpy)"
   ]
  },
  {
   "cell_type": "code",
   "execution_count": 28,
   "id": "cf2ef8ae-a0f5-4682-ba24-c9c9c2cee8d9",
   "metadata": {},
   "outputs": [
    {
     "data": {
      "image/png": "[encoded data removed]",
      "text/plain": [
       "<Figure size 640x480 with 1 Axes>"
      ]
     },
     "metadata": {},
     "output_type": "display_data"
    },
    {
     "name": "stdout",
     "output_type": "stream",
     "text": [
      "mean: 1075684.079455081\n",
      "median: 903000.0\n",
      "mode: [1100000.0]\n"
     ]
    }
   ],
   "source": [
    "mean = calc_mean(data[\"Price\"])\n",
    "median = calc_median(data[\"Price\"])\n",
    "mode = calc_mode(data[\"Price\"])\n",
    "\n",
    "plt.hist(data);\n",
    "plt.axvline(x=mean, color='r', linestyle='-')\n",
    "plt.axvline(x=median, color='b', linestyle='-')\n",
    "plt.axvline(x=mode[0], color='g', linestyle='-')\n",
    "plt.show()\n",
    "\n",
    "print('mean: '+ str(mean))\n",
    "print('median: '+ str(median))\n",
    "print('mode: '+ str(mode))"
   ]
  },
  {
   "cell_type": "code",
   "execution_count": 29,
   "id": "c038f345-6b2e-412e-be2f-a354add35b34",
   "metadata": {},
   "outputs": [],
   "source": [
    "# Calculate minimum for each variable\n",
    "minimum = data.min()"
   ]
  },
  {
   "cell_type": "code",
   "execution_count": 30,
   "id": "3530a878-ab26-4054-9a4d-e6db5013e545",
   "metadata": {},
   "outputs": [],
   "source": [
    "# Calculate maximum for each variable\n",
    "maximum = data.max()"
   ]
  },
  {
   "cell_type": "code",
   "execution_count": 31,
   "id": "9874d911-5d86-48b1-9753-e11caab92eb2",
   "metadata": {},
   "outputs": [],
   "source": [
    "# Calculate quartiles for each variable\n",
    "quartiles = data.quantile([0.25, 0.5, 0.75])"
   ]
  },
  {
   "cell_type": "code",
   "execution_count": 32,
   "id": "3e429473-c106-466b-ade4-21f7132ee2a7",
   "metadata": {},
   "outputs": [
    {
     "name": "stdout",
     "output_type": "stream",
     "text": [
      "Minimum:\n",
      "Rooms                1.00000\n",
      "Type                 1.00000\n",
      "Price            85000.00000\n",
      "Method               1.00000\n",
      "Distance             0.00000\n",
      "Postcode          3000.00000\n",
      "Bedroom2             0.00000\n",
      "Bathroom             0.00000\n",
      "Car                  0.00000\n",
      "Landsize             0.00000\n",
      "Lattitude          -38.18255\n",
      "Longtitude         144.43181\n",
      "Regionname           1.00000\n",
      "Propertycount      249.00000\n",
      "dtype: float64\n",
      "\n",
      "Maximum:\n",
      "Rooms            1.000000e+01\n",
      "Type             3.000000e+00\n",
      "Price            9.000000e+06\n",
      "Method           5.000000e+00\n",
      "Distance         4.810000e+01\n",
      "Postcode         3.977000e+03\n",
      "Bedroom2         2.000000e+01\n",
      "Bathroom         8.000000e+00\n",
      "Car              1.000000e+01\n",
      "Landsize         4.330140e+05\n",
      "Lattitude       -3.740853e+01\n",
      "Longtitude       1.455264e+02\n",
      "Regionname       8.000000e+00\n",
      "Propertycount    2.165000e+04\n",
      "dtype: float64\n",
      "\n",
      "Quartiles:\n",
      "      Rooms  Type      Price  Method  Distance  Postcode  Bedroom2  Bathroom  \\\n",
      "0.25    2.0   1.0   650000.0     1.0       6.1    3044.0       2.0       1.0   \n",
      "0.50    3.0   1.0   903000.0     1.0       9.2    3084.0       3.0       1.0   \n",
      "0.75    3.0   2.0  1330000.0     2.0      13.0    3148.0       3.0       2.0   \n",
      "\n",
      "      Car  Landsize  Lattitude  Longtitude  Regionname  Propertycount  \n",
      "0.25  1.0     177.0 -37.856822  144.929600         1.0         4380.0  \n",
      "0.50  2.0     440.0 -37.802355  145.000100         2.0         6555.0  \n",
      "0.75  2.0     651.0 -37.756400  145.058305         3.0        10331.0  \n"
     ]
    }
   ],
   "source": [
    "# Print the results\n",
    "print(\"Minimum:\")\n",
    "print(minimum)\n",
    "print(\"\\nMaximum:\")\n",
    "print(maximum)\n",
    "print(\"\\nQuartiles:\")\n",
    "print(quartiles)"
   ]
  },
  {
   "cell_type": "markdown",
   "id": "5f5b0d8f-dc9f-4ea8-ba3a-45a5c6afcf00",
   "metadata": {},
   "source": [
    "# 4. Applying the Machine Learning models"
   ]
  },
  {
   "cell_type": "markdown",
   "id": "dfc70141-585e-4e6b-a170-9437c97ca2cd",
   "metadata": {},
   "source": [
    "# 4.1.Linear Regression\n",
    "Is the simplest and most classic linear method for Regression"
   ]
  },
  {
   "cell_type": "code",
   "execution_count": 33,
   "id": "cb9709b8-e059-461b-be1b-7c2269cb96c5",
   "metadata": {},
   "outputs": [],
   "source": [
    "#\"I will choose the variable that has the highest correlation with Landsize, \n",
    "#since we removed BuildingArea.\"\n",
    "data1 = data[[\"Price\",\"Rooms\",\"Bathroom\",\"Bedroom2\",\"Car\",\"Landsize\"]]"
   ]
  },
  {
   "cell_type": "code",
   "execution_count": 34,
   "id": "99b7c805-a1d2-4197-bd2c-b92a45adbfcd",
   "metadata": {},
   "outputs": [
    {
     "name": "stdout",
     "output_type": "stream",
     "text": [
      "<class 'pandas.core.frame.DataFrame'>\n",
      "RangeIndex: 13580 entries, 0 to 13579\n",
      "Data columns (total 6 columns):\n",
      " #   Column    Non-Null Count  Dtype  \n",
      "---  ------    --------------  -----  \n",
      " 0   Price     13580 non-null  float64\n",
      " 1   Rooms     13580 non-null  int64  \n",
      " 2   Bathroom  13580 non-null  float64\n",
      " 3   Bedroom2  13580 non-null  float64\n",
      " 4   Car       13518 non-null  float64\n",
      " 5   Landsize  13580 non-null  float64\n",
      "dtypes: float64(5), int64(1)\n",
      "memory usage: 636.7 KB\n"
     ]
    }
   ],
   "source": [
    "data1.info()"
   ]
  },
  {
   "cell_type": "code",
   "execution_count": 35,
   "id": "8c062a18-0087-4ded-a1d7-5e389daeaf5b",
   "metadata": {},
   "outputs": [],
   "source": [
    "# We need to handle null values in the Car`s column because it can interfere in results.\n",
    "data1 = data1.dropna(axis=0)"
   ]
  },
  {
   "cell_type": "code",
   "execution_count": 36,
   "id": "7100176a-9119-40ec-a941-074350556679",
   "metadata": {},
   "outputs": [
    {
     "data": {
      "text/html": [
       "<div>\n",
       "<style scoped>\n",
       "    .dataframe tbody tr th:only-of-type {\n",
       "        vertical-align: middle;\n",
       "    }\n",
       "\n",
       "    .dataframe tbody tr th {\n",
       "        vertical-align: top;\n",
       "    }\n",
       "\n",
       "    .dataframe thead th {\n",
       "        text-align: right;\n",
       "    }\n",
       "</style>\n",
       "<table border=\"1\" class=\"dataframe\">\n",
       "  <thead>\n",
       "    <tr style=\"text-align: right;\">\n",
       "      <th></th>\n",
       "      <th>Price</th>\n",
       "      <th>Rooms</th>\n",
       "      <th>Bathroom</th>\n",
       "      <th>Bedroom2</th>\n",
       "      <th>Car</th>\n",
       "      <th>Landsize</th>\n",
       "    </tr>\n",
       "  </thead>\n",
       "  <tbody>\n",
       "    <tr>\n",
       "      <th>0</th>\n",
       "      <td>1480000.0</td>\n",
       "      <td>2</td>\n",
       "      <td>1.0</td>\n",
       "      <td>2.0</td>\n",
       "      <td>1.0</td>\n",
       "      <td>202.0</td>\n",
       "    </tr>\n",
       "    <tr>\n",
       "      <th>1</th>\n",
       "      <td>1035000.0</td>\n",
       "      <td>2</td>\n",
       "      <td>1.0</td>\n",
       "      <td>2.0</td>\n",
       "      <td>0.0</td>\n",
       "      <td>156.0</td>\n",
       "    </tr>\n",
       "    <tr>\n",
       "      <th>2</th>\n",
       "      <td>1465000.0</td>\n",
       "      <td>3</td>\n",
       "      <td>2.0</td>\n",
       "      <td>3.0</td>\n",
       "      <td>0.0</td>\n",
       "      <td>134.0</td>\n",
       "    </tr>\n",
       "    <tr>\n",
       "      <th>3</th>\n",
       "      <td>850000.0</td>\n",
       "      <td>3</td>\n",
       "      <td>2.0</td>\n",
       "      <td>3.0</td>\n",
       "      <td>1.0</td>\n",
       "      <td>94.0</td>\n",
       "    </tr>\n",
       "    <tr>\n",
       "      <th>4</th>\n",
       "      <td>1600000.0</td>\n",
       "      <td>4</td>\n",
       "      <td>1.0</td>\n",
       "      <td>3.0</td>\n",
       "      <td>2.0</td>\n",
       "      <td>120.0</td>\n",
       "    </tr>\n",
       "  </tbody>\n",
       "</table>\n",
       "</div>"
      ],
      "text/plain": [
       "       Price  Rooms  Bathroom  Bedroom2  Car  Landsize\n",
       "0  1480000.0      2       1.0       2.0  1.0     202.0\n",
       "1  1035000.0      2       1.0       2.0  0.0     156.0\n",
       "2  1465000.0      3       2.0       3.0  0.0     134.0\n",
       "3   850000.0      3       2.0       3.0  1.0      94.0\n",
       "4  1600000.0      4       1.0       3.0  2.0     120.0"
      ]
     },
     "execution_count": 36,
     "metadata": {},
     "output_type": "execute_result"
    }
   ],
   "source": [
    "data1.head()"
   ]
  },
  {
   "cell_type": "code",
   "execution_count": 37,
   "id": "a51c2747-900b-44e3-890b-877dfddf6505",
   "metadata": {},
   "outputs": [],
   "source": [
    "# Separate between the variable that we want to predict (Y) \n",
    "# and which columns we will use for this prediction (X).\n",
    "Y = data1.Price\n",
    "X = data1.drop('Price', axis=1)"
   ]
  },
  {
   "cell_type": "code",
   "execution_count": 38,
   "id": "a6688a8e-9677-4eef-b234-ffd11e004ed3",
   "metadata": {},
   "outputs": [],
   "source": [
    "#After that, we will divide our dataset into two parts: training and testing.\n",
    "#The training dataset will be used to train the model, allowing it to make predictions.\n",
    "#The test dataset will be used to evaluate the performance of the already trained model, \n",
    "#comparing its predictions with actual values and calculating the associated error.\n",
    "\n",
    "from sklearn.model_selection import train_test_split\n",
    "import numpy as np\n",
    "from sklearn import metrics\n",
    "from sklearn.model_selection import train_test_split, GridSearchCV\n",
    "from sklearn.ensemble import RandomForestRegressor\n",
    "from sklearn.metrics import mean_squared_error\n",
    "\n",
    "# Initialize cross-validation\n",
    "x_train,x_test,y_train,y_test = train_test_split(X,Y, test_size=0.2, random_state=0)"
   ]
  },
  {
   "cell_type": "code",
   "execution_count": 39,
   "id": "a999a76f-b29a-4978-b600-d6164cf43ede",
   "metadata": {},
   "outputs": [
    {
     "data": {
      "text/plain": [
       "((13518, 5), (13518,), (10814, 5), (2704, 5), (10814,), (2704,))"
      ]
     },
     "execution_count": 39,
     "metadata": {},
     "output_type": "execute_result"
    }
   ],
   "source": [
    "# Show the rows and columns\n",
    "X.shape, Y.shape, x_train.shape, x_test.shape, y_train.shape, y_test.shape"
   ]
  },
  {
   "cell_type": "code",
   "execution_count": 40,
   "id": "f8777477-1997-4340-a397-45e57776b104",
   "metadata": {},
   "outputs": [],
   "source": [
    "# Method to calculate the score\n",
    "def get_cv_scores(model):\n",
    "    scores = cross_val_score(model,\n",
    "                             x_train,\n",
    "                             y_train,\n",
    "                             cv = 10,\n",
    "                             scoring='r2')\n",
    "    \n",
    "    print('CV Mean: ', np.mean(scores))\n",
    "    print('STD: ', np.std(scores))\n",
    "    print('\\n')"
   ]
  },
  {
   "cell_type": "code",
   "execution_count": 41,
   "id": "10530d49-5c49-41ff-8e8f-c7ff22567243",
   "metadata": {},
   "outputs": [
    {
     "name": "stdout",
     "output_type": "stream",
     "text": [
      "CV Mean:  0.2897771686110292\n",
      "STD:  0.03660014008077648\n",
      "\n",
      "\n"
     ]
    }
   ],
   "source": [
    "# Train the model\n",
    "from sklearn.linear_model import LinearRegression\n",
    "from sklearn.model_selection import train_test_split, cross_val_score\n",
    "lr = LinearRegression().fit(x_train, y_train)\n",
    "\n",
    "# Calculate the mean values and Standard deviation\n",
    "get_cv_scores(lr)"
   ]
  },
  {
   "cell_type": "code",
   "execution_count": 42,
   "id": "cc6cc631-f9b7-4dd5-9dee-6a12cba8115e",
   "metadata": {},
   "outputs": [],
   "source": [
    "regression_model = LinearRegression()\n",
    "\n",
    "# Fitting the model\n",
    "regression_model.fit(x_train,y_train)\n",
    "\n",
    "#Using the Linear Regression to predict the datas of test\n",
    "y_regression = regression_model.predict(x_test)"
   ]
  },
  {
   "cell_type": "code",
   "execution_count": 43,
   "id": "d6fb4abc-05c3-4c7c-b7a1-64596f6ae014",
   "metadata": {},
   "outputs": [
    {
     "name": "stdout",
     "output_type": "stream",
     "text": [
      "[1200506.01171206 1224503.24362464 1204862.6182885  ... 1671016.66564442\n",
      " 1672099.79509791  948799.72294404]\n"
     ]
    }
   ],
   "source": [
    "# Calculate the predicted values\n",
    "y_pred = lr.predict(x_test)\n",
    "# y_pred\n",
    "print(y_pred)"
   ]
  },
  {
   "cell_type": "code",
   "execution_count": 44,
   "id": "772cdf12-6d79-46b0-ac0a-6cf55945689f",
   "metadata": {},
   "outputs": [
    {
     "data": {
      "image/png": "[encoded data removed]",
      "text/plain": [
       "<Figure size 600x600 with 1 Axes>"
      ]
     },
     "metadata": {},
     "output_type": "display_data"
    }
   ],
   "source": [
    "# Using the following codes, we can visualize the predicted points X real.\n",
    "\n",
    "plt.figure(figsize=(6,6))\n",
    "sns.scatterplot(x=y_test.values/1000000,y=y_regression/1000000)\n",
    "plt.ylim(0,10)\n",
    "plt.xlim(0,10)\n",
    "plt.show()"
   ]
  },
  {
   "cell_type": "code",
   "execution_count": 45,
   "id": "3c4c220e-c988-4278-ae57-9ea589cd312c",
   "metadata": {},
   "outputs": [
    {
     "name": "stdout",
     "output_type": "stream",
     "text": [
      "275605530618.60474\n"
     ]
    }
   ],
   "source": [
    "# To check if the chosen model is good, we need to eliminate the errors:\n",
    "# Evaluating Mean Squared Error\n",
    "from sklearn.metrics import mean_squared_error\n",
    "squared_error_regression = mean_squared_error(y_test,y_regression)\n",
    "print(squared_error_regression)"
   ]
  },
  {
   "cell_type": "code",
   "execution_count": 46,
   "id": "2fa39293-ecec-462b-9a02-52f5341ac3a8",
   "metadata": {},
   "outputs": [
    {
     "name": "stdout",
     "output_type": "stream",
     "text": [
      "0.30507267338769317\n"
     ]
    }
   ],
   "source": [
    "# Evaluating R2 score\n",
    "from sklearn.metrics import r2_score\n",
    "r2_regression = r2_score(y_test,y_regression)\n",
    "print(r2_regression)"
   ]
  },
  {
   "cell_type": "code",
   "execution_count": 47,
   "id": "3a96801a-721c-454c-a26d-a55d51906303",
   "metadata": {},
   "outputs": [
    {
     "data": {
      "text/html": [
       "<div>\n",
       "<style scoped>\n",
       "    .dataframe tbody tr th:only-of-type {\n",
       "        vertical-align: middle;\n",
       "    }\n",
       "\n",
       "    .dataframe tbody tr th {\n",
       "        vertical-align: top;\n",
       "    }\n",
       "\n",
       "    .dataframe thead th {\n",
       "        text-align: right;\n",
       "    }\n",
       "</style>\n",
       "<table border=\"1\" class=\"dataframe\">\n",
       "  <thead>\n",
       "    <tr style=\"text-align: right;\">\n",
       "      <th></th>\n",
       "      <th>Actual</th>\n",
       "      <th>Predicted</th>\n",
       "    </tr>\n",
       "  </thead>\n",
       "  <tbody>\n",
       "    <tr>\n",
       "      <th>12114</th>\n",
       "      <td>921000.0</td>\n",
       "      <td>1.200506e+06</td>\n",
       "    </tr>\n",
       "    <tr>\n",
       "      <th>3505</th>\n",
       "      <td>715000.0</td>\n",
       "      <td>1.224503e+06</td>\n",
       "    </tr>\n",
       "    <tr>\n",
       "      <th>13201</th>\n",
       "      <td>915000.0</td>\n",
       "      <td>1.204863e+06</td>\n",
       "    </tr>\n",
       "    <tr>\n",
       "      <th>2364</th>\n",
       "      <td>1240000.0</td>\n",
       "      <td>1.203905e+06</td>\n",
       "    </tr>\n",
       "    <tr>\n",
       "      <th>1136</th>\n",
       "      <td>1230000.0</td>\n",
       "      <td>9.818952e+05</td>\n",
       "    </tr>\n",
       "    <tr>\n",
       "      <th>313</th>\n",
       "      <td>1435000.0</td>\n",
       "      <td>1.204631e+06</td>\n",
       "    </tr>\n",
       "    <tr>\n",
       "      <th>11161</th>\n",
       "      <td>1480000.0</td>\n",
       "      <td>9.812472e+05</td>\n",
       "    </tr>\n",
       "    <tr>\n",
       "      <th>1460</th>\n",
       "      <td>851000.0</td>\n",
       "      <td>9.586458e+05</td>\n",
       "    </tr>\n",
       "    <tr>\n",
       "      <th>9423</th>\n",
       "      <td>925000.0</td>\n",
       "      <td>1.260914e+06</td>\n",
       "    </tr>\n",
       "    <tr>\n",
       "      <th>8633</th>\n",
       "      <td>500000.0</td>\n",
       "      <td>7.259064e+05</td>\n",
       "    </tr>\n",
       "  </tbody>\n",
       "</table>\n",
       "</div>"
      ],
      "text/plain": [
       "          Actual     Predicted\n",
       "12114   921000.0  1.200506e+06\n",
       "3505    715000.0  1.224503e+06\n",
       "13201   915000.0  1.204863e+06\n",
       "2364   1240000.0  1.203905e+06\n",
       "1136   1230000.0  9.818952e+05\n",
       "313    1435000.0  1.204631e+06\n",
       "11161  1480000.0  9.812472e+05\n",
       "1460    851000.0  9.586458e+05\n",
       "9423    925000.0  1.260914e+06\n",
       "8633    500000.0  7.259064e+05"
      ]
     },
     "execution_count": 47,
     "metadata": {},
     "output_type": "execute_result"
    }
   ],
   "source": [
    "# Display the test and predicted values\n",
    "df = pd.DataFrame({'Actual': y_test, 'Predicted': y_pred})\n",
    "df.head(10)"
   ]
  },
  {
   "cell_type": "code",
   "execution_count": 48,
   "id": "b0499281-9d12-4604-9e97-827ebb0de915",
   "metadata": {},
   "outputs": [
    {
     "name": "stdout",
     "output_type": "stream",
     "text": [
      "Mean Absolute Error: 371171.9401981476\n",
      "Mean Squared Error: 275605530618.60474\n",
      "Root Mean Squared Error: 524981.4574045495\n"
     ]
    }
   ],
   "source": [
    "# Calculate the error values\n",
    "print('Mean Absolute Error:', metrics.mean_absolute_error(y_test, y_pred))\n",
    "print('Mean Squared Error:', metrics.mean_squared_error(y_test, y_pred))\n",
    "print('Root Mean Squared Error:', np.sqrt(metrics.mean_squared_error(y_test, y_pred)))"
   ]
  },
  {
   "attachments": {},
   "cell_type": "markdown",
   "id": "89986df3-9a86-433d-b87f-79512c9c34e3",
   "metadata": {},
   "source": [
    "# 3.2.Decision Tree\n",
    "Decision Tree is a supervised classification method. A decision tree is a graph in the shape of a tree, a sequential diagram that shows all of the potential decision options and their associated results."
   ]
  },
  {
   "cell_type": "code",
   "execution_count": 49,
   "id": "0e8bedd8-3a56-4753-9dcf-76247a8aac2d",
   "metadata": {},
   "outputs": [],
   "source": [
    "from sklearn.tree import DecisionTreeRegressor\n",
    "\n",
    "decision_tree_model = DecisionTreeRegressor()\n",
    "\n",
    "# Fitting the model\n",
    "decision_tree_model.fit(x_train,y_train)\n",
    "\n",
    "# Using the Decision Tree to predict the data of test\n",
    "y_decision_tree = decision_tree_model.predict(x_test)"
   ]
  },
  {
   "cell_type": "code",
   "execution_count": 50,
   "id": "64cd495b-4a77-4add-9bc5-b2fe1db69b02",
   "metadata": {},
   "outputs": [
    {
     "name": "stdout",
     "output_type": "stream",
     "text": [
      "456416409211.36707\n",
      "-0.1508340720279906\n"
     ]
    }
   ],
   "source": [
    "# To check if the chosen model is good, we need to eliminate the errors:\n",
    "# Evaluating Mean Squared Error\n",
    "decision_tree_squared_error = mean_squared_error(y_test,y_decision_tree)\n",
    "print(decision_tree_squared_error)\n",
    "\n",
    "# R quadrado\n",
    "r2_decision_tree = r2_score(y_test,y_decision_tree)\n",
    "print(r2_decision_tree)"
   ]
  },
  {
   "cell_type": "code",
   "execution_count": 51,
   "id": "fa17f70e-9ecb-4a76-bd71-1ffbed4d7b6a",
   "metadata": {},
   "outputs": [
    {
     "name": "stdout",
     "output_type": "stream",
     "text": [
      "Linear Regression\n",
      "Mean Squared Error: 275605530618.6\n",
      "R2: 0.3051\n",
      "-----------------------------------------\n",
      "Decision Tree\n",
      "Mean Squared Error: 456416409211.37\n",
      "R2: -0.1508\n"
     ]
    }
   ],
   "source": [
    "print('Linear Regression')\n",
    "print('Mean Squared Error: ' + str(round(squared_error_regression,2)))\n",
    "print('R2: '+ str(round(r2_regression,4)))\n",
    "print('-----------------------------------------')\n",
    "print('Decision Tree')\n",
    "print('Mean Squared Error: ' + str(round(decision_tree_squared_error,2)))\n",
    "print('R2: '+ str(round(r2_decision_tree,4)))"
   ]
  },
  {
   "cell_type": "code",
   "execution_count": null,
   "id": "b4c9f472-e54b-451e-ba3f-52cdfff3f72f",
   "metadata": {},
   "outputs": [],
   "source": []
  }
 ],
 "metadata": {
  "kernelspec": {
   "display_name": "Python 3 (ipykernel)",
   "language": "python",
   "name": "python3"
  },
  "language_info": {
   "codemirror_mode": {
    "name": "ipython",
    "version": 3
   },
   "file_extension": ".py",
   "mimetype": "text/x-python",
   "name": "python",
   "nbconvert_exporter": "python",
   "pygments_lexer": "ipython3",
   "version": "3.11.7"
  }
 },
 "nbformat": 4,
 "nbformat_minor": 5
}
